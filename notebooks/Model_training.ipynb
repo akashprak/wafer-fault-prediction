{
 "cells": [
  {
   "cell_type": "code",
   "execution_count": 1,
   "metadata": {},
   "outputs": [],
   "source": [
    "import pandas as pd\n",
    "import numpy as np\n",
    "from sklearn.preprocessing import RobustScaler, LabelEncoder\n",
    "from sklearn.decomposition import PCA\n",
    "from sklearn.pipeline import Pipeline\n",
    "from sklearn.impute import KNNImputer\n",
    "import matplotlib.pyplot as plt\n",
    "from imblearn.over_sampling import SMOTE\n",
    "import seaborn as sns"
   ]
  },
  {
   "cell_type": "code",
   "execution_count": 2,
   "metadata": {},
   "outputs": [],
   "source": [
    "plt.rcParams['figure.figsize']=[5,4]"
   ]
  },
  {
   "cell_type": "code",
   "execution_count": 3,
   "metadata": {},
   "outputs": [],
   "source": [
    "df = pd.read_csv(\"../data/Cleaned_data.csv\")"
   ]
  },
  {
   "cell_type": "code",
   "execution_count": 4,
   "metadata": {},
   "outputs": [
    {
     "data": {
      "text/html": [
       "<div>\n",
       "<style scoped>\n",
       "    .dataframe tbody tr th:only-of-type {\n",
       "        vertical-align: middle;\n",
       "    }\n",
       "\n",
       "    .dataframe tbody tr th {\n",
       "        vertical-align: top;\n",
       "    }\n",
       "\n",
       "    .dataframe thead th {\n",
       "        text-align: right;\n",
       "    }\n",
       "</style>\n",
       "<table border=\"1\" class=\"dataframe\">\n",
       "  <thead>\n",
       "    <tr style=\"text-align: right;\">\n",
       "      <th></th>\n",
       "      <th>Sensor-1</th>\n",
       "      <th>Sensor-2</th>\n",
       "      <th>Sensor-3</th>\n",
       "      <th>Sensor-4</th>\n",
       "      <th>Sensor-5</th>\n",
       "      <th>Sensor-7</th>\n",
       "      <th>Sensor-8</th>\n",
       "      <th>Sensor-9</th>\n",
       "      <th>Sensor-10</th>\n",
       "      <th>Sensor-11</th>\n",
       "      <th>...</th>\n",
       "      <th>Sensor-578</th>\n",
       "      <th>Sensor-583</th>\n",
       "      <th>Sensor-584</th>\n",
       "      <th>Sensor-585</th>\n",
       "      <th>Sensor-586</th>\n",
       "      <th>Sensor-587</th>\n",
       "      <th>Sensor-588</th>\n",
       "      <th>Sensor-589</th>\n",
       "      <th>Sensor-590</th>\n",
       "      <th>Good/Bad</th>\n",
       "    </tr>\n",
       "  </thead>\n",
       "  <tbody>\n",
       "    <tr>\n",
       "      <th>0</th>\n",
       "      <td>3076.81</td>\n",
       "      <td>NaN</td>\n",
       "      <td>2208.2334</td>\n",
       "      <td>1517.0152</td>\n",
       "      <td>1.0980</td>\n",
       "      <td>110.1900</td>\n",
       "      <td>0.1247</td>\n",
       "      <td>1.4357</td>\n",
       "      <td>0.0089</td>\n",
       "      <td>0.0052</td>\n",
       "      <td>...</td>\n",
       "      <td>9.5549</td>\n",
       "      <td>0.5016</td>\n",
       "      <td>0.0152</td>\n",
       "      <td>0.0040</td>\n",
       "      <td>3.0319</td>\n",
       "      <td>NaN</td>\n",
       "      <td>0.0299</td>\n",
       "      <td>0.0090</td>\n",
       "      <td>64.2405</td>\n",
       "      <td>-1</td>\n",
       "    </tr>\n",
       "    <tr>\n",
       "      <th>1</th>\n",
       "      <td>2951.62</td>\n",
       "      <td>2511.92</td>\n",
       "      <td>NaN</td>\n",
       "      <td>1397.5060</td>\n",
       "      <td>0.9660</td>\n",
       "      <td>109.7611</td>\n",
       "      <td>0.1210</td>\n",
       "      <td>1.5527</td>\n",
       "      <td>0.0119</td>\n",
       "      <td>-0.0082</td>\n",
       "      <td>...</td>\n",
       "      <td>11.2721</td>\n",
       "      <td>0.4953</td>\n",
       "      <td>0.0105</td>\n",
       "      <td>0.0037</td>\n",
       "      <td>2.1266</td>\n",
       "      <td>NaN</td>\n",
       "      <td>0.0252</td>\n",
       "      <td>0.0081</td>\n",
       "      <td>NaN</td>\n",
       "      <td>-1</td>\n",
       "    </tr>\n",
       "    <tr>\n",
       "      <th>2</th>\n",
       "      <td>2930.42</td>\n",
       "      <td>2505.17</td>\n",
       "      <td>2235.0556</td>\n",
       "      <td>1302.6607</td>\n",
       "      <td>1.6347</td>\n",
       "      <td>109.9856</td>\n",
       "      <td>0.1230</td>\n",
       "      <td>1.4588</td>\n",
       "      <td>-0.0143</td>\n",
       "      <td>0.0017</td>\n",
       "      <td>...</td>\n",
       "      <td>NaN</td>\n",
       "      <td>0.4958</td>\n",
       "      <td>0.0111</td>\n",
       "      <td>0.0033</td>\n",
       "      <td>2.2296</td>\n",
       "      <td>NaN</td>\n",
       "      <td>0.0252</td>\n",
       "      <td>0.0081</td>\n",
       "      <td>NaN</td>\n",
       "      <td>-1</td>\n",
       "    </tr>\n",
       "    <tr>\n",
       "      <th>3</th>\n",
       "      <td>2997.28</td>\n",
       "      <td>NaN</td>\n",
       "      <td>NaN</td>\n",
       "      <td>1236.5212</td>\n",
       "      <td>0.9698</td>\n",
       "      <td>98.3344</td>\n",
       "      <td>0.1238</td>\n",
       "      <td>NaN</td>\n",
       "      <td>NaN</td>\n",
       "      <td>NaN</td>\n",
       "      <td>...</td>\n",
       "      <td>19.5919</td>\n",
       "      <td>0.4962</td>\n",
       "      <td>NaN</td>\n",
       "      <td>NaN</td>\n",
       "      <td>NaN</td>\n",
       "      <td>NaN</td>\n",
       "      <td>0.0252</td>\n",
       "      <td>0.0081</td>\n",
       "      <td>NaN</td>\n",
       "      <td>-1</td>\n",
       "    </tr>\n",
       "    <tr>\n",
       "      <th>4</th>\n",
       "      <td>3025.10</td>\n",
       "      <td>2475.18</td>\n",
       "      <td>2235.0556</td>\n",
       "      <td>1302.6607</td>\n",
       "      <td>1.6347</td>\n",
       "      <td>109.9856</td>\n",
       "      <td>0.1230</td>\n",
       "      <td>1.5525</td>\n",
       "      <td>-0.0078</td>\n",
       "      <td>-0.0005</td>\n",
       "      <td>...</td>\n",
       "      <td>10.8826</td>\n",
       "      <td>0.4983</td>\n",
       "      <td>0.0159</td>\n",
       "      <td>0.0041</td>\n",
       "      <td>3.1927</td>\n",
       "      <td>NaN</td>\n",
       "      <td>0.0252</td>\n",
       "      <td>0.0081</td>\n",
       "      <td>NaN</td>\n",
       "      <td>-1</td>\n",
       "    </tr>\n",
       "  </tbody>\n",
       "</table>\n",
       "<p>5 rows × 433 columns</p>\n",
       "</div>"
      ],
      "text/plain": [
       "   Sensor-1  Sensor-2   Sensor-3   Sensor-4  Sensor-5  Sensor-7  Sensor-8  \\\n",
       "0   3076.81       NaN  2208.2334  1517.0152    1.0980  110.1900    0.1247   \n",
       "1   2951.62   2511.92        NaN  1397.5060    0.9660  109.7611    0.1210   \n",
       "2   2930.42   2505.17  2235.0556  1302.6607    1.6347  109.9856    0.1230   \n",
       "3   2997.28       NaN        NaN  1236.5212    0.9698   98.3344    0.1238   \n",
       "4   3025.10   2475.18  2235.0556  1302.6607    1.6347  109.9856    0.1230   \n",
       "\n",
       "   Sensor-9  Sensor-10  Sensor-11  ...  Sensor-578  Sensor-583  Sensor-584  \\\n",
       "0    1.4357     0.0089     0.0052  ...      9.5549      0.5016      0.0152   \n",
       "1    1.5527     0.0119    -0.0082  ...     11.2721      0.4953      0.0105   \n",
       "2    1.4588    -0.0143     0.0017  ...         NaN      0.4958      0.0111   \n",
       "3       NaN        NaN        NaN  ...     19.5919      0.4962         NaN   \n",
       "4    1.5525    -0.0078    -0.0005  ...     10.8826      0.4983      0.0159   \n",
       "\n",
       "   Sensor-585  Sensor-586  Sensor-587  Sensor-588  Sensor-589  Sensor-590  \\\n",
       "0      0.0040      3.0319         NaN      0.0299      0.0090     64.2405   \n",
       "1      0.0037      2.1266         NaN      0.0252      0.0081         NaN   \n",
       "2      0.0033      2.2296         NaN      0.0252      0.0081         NaN   \n",
       "3         NaN         NaN         NaN      0.0252      0.0081         NaN   \n",
       "4      0.0041      3.1927         NaN      0.0252      0.0081         NaN   \n",
       "\n",
       "   Good/Bad  \n",
       "0        -1  \n",
       "1        -1  \n",
       "2        -1  \n",
       "3        -1  \n",
       "4        -1  \n",
       "\n",
       "[5 rows x 433 columns]"
      ]
     },
     "execution_count": 4,
     "metadata": {},
     "output_type": "execute_result"
    }
   ],
   "source": [
    "df.head()"
   ]
  },
  {
   "cell_type": "code",
   "execution_count": 5,
   "metadata": {},
   "outputs": [
    {
     "data": {
      "text/plain": [
       "(1537, 433)"
      ]
     },
     "execution_count": 5,
     "metadata": {},
     "output_type": "execute_result"
    }
   ],
   "source": [
    "df.shape"
   ]
  },
  {
   "cell_type": "code",
   "execution_count": 6,
   "metadata": {},
   "outputs": [],
   "source": [
    "with open(\"../artifacts/valid_features.txt\") as file:\n",
    "    valid_features = file.readlines()\n",
    "\n",
    "valid_features = [line.strip() for line in valid_features]\n",
    "target = \"Good/Bad\""
   ]
  },
  {
   "cell_type": "code",
   "execution_count": 7,
   "metadata": {},
   "outputs": [
    {
     "data": {
      "text/plain": [
       "Good/Bad\n",
       "-1    1448\n",
       " 1      89\n",
       "Name: count, dtype: int64"
      ]
     },
     "execution_count": 7,
     "metadata": {},
     "output_type": "execute_result"
    }
   ],
   "source": [
    "# dataset is imbalanced\n",
    "df[target].value_counts()"
   ]
  },
  {
   "cell_type": "markdown",
   "metadata": {},
   "source": [
    "Since there is very high imbalance in data, having a test data for validation would not be representative and is very likely to overfit.\n",
    "\n",
    "The better choice is to cross validate on the data and choose the best model"
   ]
  },
  {
   "cell_type": "markdown",
   "metadata": {},
   "source": [
    "The imbalance in the dataset should be taken care of by oversampling."
   ]
  },
  {
   "cell_type": "code",
   "execution_count": 8,
   "metadata": {},
   "outputs": [],
   "source": [
    "X_train = df[valid_features]\n",
    "y_train = df[target]"
   ]
  },
  {
   "cell_type": "code",
   "execution_count": 9,
   "metadata": {},
   "outputs": [],
   "source": [
    "preprocessor = Pipeline(\n",
    "    steps=[\n",
    "        ('scaler', RobustScaler()),       \n",
    "        ('imputer', KNNImputer()),\n",
    "    ]\n",
    ")\n",
    "\n",
    "pca = PCA(n_components=0.95, random_state=55)\n",
    "oversampler = SMOTE(sampling_strategy=0.33, random_state=44)\n",
    "\n",
    "X_train = preprocessor.fit_transform(X_train)\n",
    "X_train , y_train = oversampler.fit_resample(X_train, y_train)\n",
    "X_train = pca.fit_transform(X_train)\n",
    "\n",
    "# label encoding the target to be consistent with the metrics\n",
    "le = LabelEncoder()\n",
    "y_train = le.fit_transform(y_train)"
   ]
  },
  {
   "cell_type": "code",
   "execution_count": 10,
   "metadata": {},
   "outputs": [
    {
     "data": {
      "text/plain": [
       "array([0.1415554 , 0.11665411, 0.11055132, 0.07843091, 0.02339346,\n",
       "       0.02018185, 0.01663465, 0.01505062, 0.0119582 , 0.01107837,\n",
       "       0.01019571, 0.00977773, 0.00896907, 0.0088089 , 0.0083313 ])"
      ]
     },
     "execution_count": 10,
     "metadata": {},
     "output_type": "execute_result"
    }
   ],
   "source": [
    "pca.explained_variance_ratio_[:15]"
   ]
  },
  {
   "cell_type": "code",
   "execution_count": 11,
   "metadata": {},
   "outputs": [
    {
     "data": {
      "text/plain": [
       "<Axes: >"
      ]
     },
     "execution_count": 11,
     "metadata": {},
     "output_type": "execute_result"
    },
    {
     "data": {
      "image/png": "[encoded data removed]",
      "text/plain": [
       "<Figure size 500x400 with 1 Axes>"
      ]
     },
     "metadata": {},
     "output_type": "display_data"
    }
   ],
   "source": [
    "sns.scatterplot(x=X_train[:,0], y=X_train[:,1], hue=y_train)"
   ]
  },
  {
   "cell_type": "markdown",
   "metadata": {},
   "source": [
    "Plotting with the top components after PCA which explain the most variance.\n",
    "\n",
    "There does not seem to be any indication of strong patterns in the data"
   ]
  },
  {
   "cell_type": "code",
   "execution_count": 11,
   "metadata": {},
   "outputs": [
    {
     "data": {
      "text/plain": [
       "((1925, 161), (1925,))"
      ]
     },
     "execution_count": 11,
     "metadata": {},
     "output_type": "execute_result"
    }
   ],
   "source": [
    "X_train.shape, y_train.shape"
   ]
  },
  {
   "cell_type": "markdown",
   "metadata": {},
   "source": [
    "Clustering"
   ]
  },
  {
   "cell_type": "code",
   "execution_count": 13,
   "metadata": {},
   "outputs": [],
   "source": [
    "from sklearn.cluster import KMeans\n",
    "from sklearn.mixture import GaussianMixture\n",
    "from sklearn.metrics import silhouette_score"
   ]
  },
  {
   "cell_type": "code",
   "execution_count": 14,
   "metadata": {},
   "outputs": [],
   "source": [
    "import warnings\n",
    "warnings.filterwarnings('ignore')"
   ]
  },
  {
   "cell_type": "code",
   "execution_count": 15,
   "metadata": {},
   "outputs": [
    {
     "data": {
      "image/png": "[encoded data removed]",
      "text/plain": [
       "<Figure size 500x400 with 1 Axes>"
      ]
     },
     "metadata": {},
     "output_type": "display_data"
    }
   ],
   "source": [
    "wcss=[]\n",
    "for k in range(1,11):\n",
    "    kmean=KMeans(n_clusters=k, random_state=10)\n",
    "    kmean.fit(X_train)\n",
    "    wcss.append(kmean.inertia_)\n",
    "    \n",
    "\n",
    "sns.lineplot(y=wcss, x=range(1,11))\n",
    "plt.xticks(range(1,11))\n",
    "plt.xlabel(\"number of cluster\")\n",
    "plt.ylabel(\"WCSS\")\n",
    "plt.show()"
   ]
  },
  {
   "cell_type": "code",
   "execution_count": 16,
   "metadata": {},
   "outputs": [
    {
     "data": {
      "text/plain": [
       "[0.32316839001349246,\n",
       " 0.20986759484237763,\n",
       " 0.20485366131273255,\n",
       " 0.2212053807627225,\n",
       " 0.1113835351062098,\n",
       " 0.10751205213254249,\n",
       " 0.07075106913777506,\n",
       " 0.06216879732897846,\n",
       " 0.060484704939420895]"
      ]
     },
     "execution_count": 16,
     "metadata": {},
     "output_type": "execute_result"
    }
   ],
   "source": [
    "silhouette_coefficients=[]\n",
    "for i in range(2,11):\n",
    "    kmeans=KMeans(n_clusters=i, random_state=5)\n",
    "    kmeans.fit(X_train)\n",
    "    score=silhouette_score(X_train,kmeans.labels_)\n",
    "    silhouette_coefficients.append(score)\n",
    "\n",
    "silhouette_coefficients"
   ]
  },
  {
   "cell_type": "markdown",
   "metadata": {},
   "source": [
    "Clustering is not well defined suggesting that the data may not be well separated."
   ]
  },
  {
   "cell_type": "code",
   "execution_count": 17,
   "metadata": {},
   "outputs": [
    {
     "data": {
      "text/plain": [
       "5"
      ]
     },
     "execution_count": 17,
     "metadata": {},
     "output_type": "execute_result"
    }
   ],
   "source": [
    "from kneed import KneeLocator\n",
    "elbow = KneeLocator(range(1,11), wcss, curve='convex', direction='decreasing')\n",
    "elbow.elbow"
   ]
  },
  {
   "cell_type": "code",
   "execution_count": 19,
   "metadata": {},
   "outputs": [
    {
     "name": "stdout",
     "output_type": "stream",
     "text": [
      "[[   0  172]\n",
      " [   1  327]\n",
      " [   2  178]\n",
      " [   3    7]\n",
      " [   4 1241]]\n"
     ]
    }
   ],
   "source": [
    "clustering = KMeans(n_clusters=5, random_state=5)\n",
    "clustering.fit(X_train)\n",
    "\n",
    "unique,counts = np.unique(clustering.labels_, return_counts=True)\n",
    "print(np.asarray((unique, counts)).T)"
   ]
  },
  {
   "cell_type": "markdown",
   "metadata": {},
   "source": [
    "GMM"
   ]
  },
  {
   "cell_type": "code",
   "execution_count": 18,
   "metadata": {},
   "outputs": [
    {
     "data": {
      "text/plain": [
       "[{'n_clusters': 2, 'score': 0.19450604201978977},\n",
       " {'n_clusters': 3, 'score': 0.21470239475907568},\n",
       " {'n_clusters': 4, 'score': 0.20371394623548636},\n",
       " {'n_clusters': 5, 'score': 0.2212053807627225},\n",
       " {'n_clusters': 6, 'score': 0.10753912712577084},\n",
       " {'n_clusters': 7, 'score': 0.10522169121680826},\n",
       " {'n_clusters': 8, 'score': 0.09435949952310625},\n",
       " {'n_clusters': 9, 'score': 0.09726989657178792},\n",
       " {'n_clusters': 10, 'score': 0.09785130002412605}]"
      ]
     },
     "execution_count": 18,
     "metadata": {},
     "output_type": "execute_result"
    }
   ],
   "source": [
    "scores = list()\n",
    "\n",
    "for i in range(2,11):\n",
    "    clustering = GaussianMixture(n_components=i, random_state=10)\n",
    "    labels=clustering.fit_predict(X_train)\n",
    "    score=silhouette_score(X_train,labels)\n",
    "    scores.append({'n_clusters':i, 'score':score})\n",
    "\n",
    "scores"
   ]
  },
  {
   "cell_type": "markdown",
   "metadata": {},
   "source": [
    "Clustering might not be the right approach since the clusters are not well defined"
   ]
  },
  {
   "cell_type": "markdown",
   "metadata": {},
   "source": [
    "The data doesn't have well defined boundaries to cluster and train different models for each cluster.\n",
    "\n",
    "The dimension of the dataset is large that distance metrics become less efficent."
   ]
  },
  {
   "cell_type": "markdown",
   "metadata": {},
   "source": [
    "Model Training"
   ]
  },
  {
   "cell_type": "code",
   "execution_count": 12,
   "metadata": {},
   "outputs": [],
   "source": [
    "from sklearn.model_selection import GridSearchCV\n",
    "from sklearn.linear_model import LogisticRegression\n",
    "from sklearn.svm import SVC\n",
    "from sklearn.ensemble import RandomForestClassifier\n",
    "from xgboost import XGBClassifier\n",
    "from sklearn.metrics import balanced_accuracy_score,f1_score,roc_auc_score,ConfusionMatrixDisplay"
   ]
  },
  {
   "cell_type": "code",
   "execution_count": 13,
   "metadata": {},
   "outputs": [],
   "source": [
    "from dataclasses import dataclass\n",
    "\n",
    "# parameters have been chosen so as to reduce overfitting too.\n",
    "@dataclass\n",
    "class modelParams:\n",
    "\n",
    "    LogisticRegression_params ={\n",
    "        'penalty':['l1', 'l2'],\n",
    "        'C':[0.01, 0.1, 1, 10]\n",
    "    }\n",
    "\n",
    "\n",
    "    SVC_params = {\n",
    "        'kernel' : ['linear', 'rbf'],\n",
    "        'C': [0.1, 0.5, 0.7],\n",
    "    }\n",
    "\n",
    "\n",
    "    randomForest_params = {\n",
    "        'n_estimators': [100, 200],\n",
    "        'criterion': ['gini', 'entropy'],\n",
    "        'max_depth': [None, 3, 5],\n",
    "        'min_samples_split': [3, 5],\n",
    "        'min_samples_leaf': [2],\n",
    "        'max_features': ['sqrt', 'log2']\n",
    "    }\n",
    "\n",
    "\n",
    "    xgboost_params = {\n",
    "        'learning_rate': [0.3, 0.2, 0.1],\n",
    "        'max_depth': [2, 3, 4],\n",
    "        'n_estimators': [150, 100],\n",
    "        'colsample_bytree' : [0.5],\n",
    "        'reg_alpha' : [5],\n",
    "        'reg_lambda' : [5]\n",
    "        \n",
    "    }"
   ]
  },
  {
   "cell_type": "code",
   "execution_count": 18,
   "metadata": {},
   "outputs": [],
   "source": [
    "class model_finder:\n",
    "    \n",
    "    def __init__(self, X_train, y_train) -> None:\n",
    "        self.X_train = X_train\n",
    "        self.y_train = y_train\n",
    "        self.params = modelParams()\n",
    "\n",
    "    def find_logistic_regression(self) -> LogisticRegression:\n",
    "        model = LogisticRegression(solver='liblinear', class_weight='balanced')\n",
    "        model_Grid = GridSearchCV(estimator=model, param_grid=self.params.LogisticRegression_params, \n",
    "                            scoring='f1', verbose=2)\n",
    "        \n",
    "        model_Grid.fit(self.X_train, self.y_train)\n",
    "        return model_Grid\n",
    "    \n",
    "    def find_SVC(self):\n",
    "        model = SVC(class_weight='balanced')\n",
    "        model_Grid = GridSearchCV(estimator=model, param_grid=self.params.SVC_params, \n",
    "                            scoring='f1', verbose=2)\n",
    "\n",
    "        model_Grid.fit(self.X_train, self.y_train)\n",
    "        return model_Grid\n",
    "    \n",
    "    def find_randomForest(self):\n",
    "        model = RandomForestClassifier(random_state=5, class_weight='balanced')\n",
    "        model_Grid = GridSearchCV(estimator=model, param_grid=self.params.randomForest_params, \n",
    "                            scoring='f1', verbose=2)\n",
    "\n",
    "        model_Grid.fit(self.X_train, self.y_train)\n",
    "        return model_Grid\n",
    "    \n",
    "    def find_xgboost(self):\n",
    "        model = XGBClassifier(objective=\"binary:logistic\")\n",
    "        model_Grid = GridSearchCV(estimator=model, param_grid=self.params.xgboost_params, \n",
    "                            scoring='f1', verbose=2)\n",
    "\n",
    "        model_Grid.fit(self.X_train, self.y_train)\n",
    "        return model_Grid"
   ]
  },
  {
   "cell_type": "code",
   "execution_count": 19,
   "metadata": {},
   "outputs": [
    {
     "name": "stdout",
     "output_type": "stream",
     "text": [
      "Fitting 5 folds for each of 8 candidates, totalling 40 fits\n",
      "[CV] END .................................C=0.01, penalty=l1; total time=   0.0s\n",
      "[CV] END .................................C=0.01, penalty=l1; total time=   0.0s\n",
      "[CV] END .................................C=0.01, penalty=l1; total time=   0.0s\n",
      "[CV] END .................................C=0.01, penalty=l1; total time=   0.0s\n",
      "[CV] END .................................C=0.01, penalty=l1; total time=   0.0s\n",
      "[CV] END .................................C=0.01, penalty=l2; total time=   0.0s\n",
      "[CV] END .................................C=0.01, penalty=l2; total time=   0.0s\n",
      "[CV] END .................................C=0.01, penalty=l2; total time=   0.0s\n",
      "[CV] END .................................C=0.01, penalty=l2; total time=   0.0s\n",
      "[CV] END .................................C=0.01, penalty=l2; total time=   0.1s\n",
      "[CV] END ..................................C=0.1, penalty=l1; total time=   0.0s\n",
      "[CV] END ..................................C=0.1, penalty=l1; total time=   0.0s\n",
      "[CV] END ..................................C=0.1, penalty=l1; total time=   0.0s\n",
      "[CV] END ..................................C=0.1, penalty=l1; total time=   0.0s\n",
      "[CV] END ..................................C=0.1, penalty=l1; total time=   0.0s\n",
      "[CV] END ..................................C=0.1, penalty=l2; total time=   0.1s\n",
      "[CV] END ..................................C=0.1, penalty=l2; total time=   0.2s\n",
      "[CV] END ..................................C=0.1, penalty=l2; total time=   0.1s\n",
      "[CV] END ..................................C=0.1, penalty=l2; total time=   0.2s\n",
      "[CV] END ..................................C=0.1, penalty=l2; total time=   0.3s\n",
      "[CV] END ....................................C=1, penalty=l1; total time=   0.2s\n",
      "[CV] END ....................................C=1, penalty=l1; total time=   0.2s\n",
      "[CV] END ....................................C=1, penalty=l1; total time=   0.2s\n",
      "[CV] END ....................................C=1, penalty=l1; total time=   0.2s\n",
      "[CV] END ....................................C=1, penalty=l1; total time=   0.1s\n",
      "[CV] END ....................................C=1, penalty=l2; total time=   0.1s\n",
      "[CV] END ....................................C=1, penalty=l2; total time=   0.2s\n",
      "[CV] END ....................................C=1, penalty=l2; total time=   0.1s\n",
      "[CV] END ....................................C=1, penalty=l2; total time=   0.1s\n",
      "[CV] END ....................................C=1, penalty=l2; total time=   0.1s\n",
      "[CV] END ...................................C=10, penalty=l1; total time=   0.1s\n",
      "[CV] END ...................................C=10, penalty=l1; total time=   0.0s\n",
      "[CV] END ...................................C=10, penalty=l1; total time=   0.0s\n",
      "[CV] END ...................................C=10, penalty=l1; total time=   0.0s\n",
      "[CV] END ...................................C=10, penalty=l1; total time=   0.1s\n",
      "[CV] END ...................................C=10, penalty=l2; total time=   0.1s\n",
      "[CV] END ...................................C=10, penalty=l2; total time=   0.1s\n",
      "[CV] END ...................................C=10, penalty=l2; total time=   0.0s\n",
      "[CV] END ...................................C=10, penalty=l2; total time=   0.0s\n",
      "[CV] END ...................................C=10, penalty=l2; total time=   0.0s\n",
      "Fitting 5 folds for each of 6 candidates, totalling 30 fits\n",
      "[CV] END ...............................C=0.1, kernel=linear; total time=   0.1s\n",
      "[CV] END ...............................C=0.1, kernel=linear; total time=   0.2s\n",
      "[CV] END ...............................C=0.1, kernel=linear; total time=   0.3s\n",
      "[CV] END ...............................C=0.1, kernel=linear; total time=   0.1s\n",
      "[CV] END ...............................C=0.1, kernel=linear; total time=   0.1s\n",
      "[CV] END ..................................C=0.1, kernel=rbf; total time=   0.1s\n",
      "[CV] END ..................................C=0.1, kernel=rbf; total time=   0.1s\n",
      "[CV] END ..................................C=0.1, kernel=rbf; total time=   0.2s\n",
      "[CV] END ..................................C=0.1, kernel=rbf; total time=   0.2s\n",
      "[CV] END ..................................C=0.1, kernel=rbf; total time=   0.4s\n",
      "[CV] END ...............................C=0.5, kernel=linear; total time=   0.7s\n",
      "[CV] END ...............................C=0.5, kernel=linear; total time=   0.8s\n",
      "[CV] END ...............................C=0.5, kernel=linear; total time=   0.5s\n",
      "[CV] END ...............................C=0.5, kernel=linear; total time=   0.2s\n",
      "[CV] END ...............................C=0.5, kernel=linear; total time=   0.7s\n",
      "[CV] END ..................................C=0.5, kernel=rbf; total time=   0.0s\n",
      "[CV] END ..................................C=0.5, kernel=rbf; total time=   0.1s\n",
      "[CV] END ..................................C=0.5, kernel=rbf; total time=   0.1s\n",
      "[CV] END ..................................C=0.5, kernel=rbf; total time=   0.1s\n",
      "[CV] END ..................................C=0.5, kernel=rbf; total time=   0.0s\n",
      "[CV] END ...............................C=0.7, kernel=linear; total time=   0.9s\n",
      "[CV] END ...............................C=0.7, kernel=linear; total time=   0.5s\n",
      "[CV] END ...............................C=0.7, kernel=linear; total time=   0.8s\n",
      "[CV] END ...............................C=0.7, kernel=linear; total time=   0.5s\n",
      "[CV] END ...............................C=0.7, kernel=linear; total time=   1.1s\n",
      "[CV] END ..................................C=0.7, kernel=rbf; total time=   0.1s\n",
      "[CV] END ..................................C=0.7, kernel=rbf; total time=   0.1s\n",
      "[CV] END ..................................C=0.7, kernel=rbf; total time=   0.1s\n",
      "[CV] END ..................................C=0.7, kernel=rbf; total time=   0.1s\n",
      "[CV] END ..................................C=0.7, kernel=rbf; total time=   0.1s\n",
      "Fitting 5 folds for each of 48 candidates, totalling 240 fits\n",
      "[CV] END criterion=gini, max_depth=None, max_features=sqrt, min_samples_leaf=2, min_samples_split=3, n_estimators=100; total time=   1.5s\n",
      "[CV] END criterion=gini, max_depth=None, max_features=sqrt, min_samples_leaf=2, min_samples_split=3, n_estimators=100; total time=   1.4s\n",
      "[CV] END criterion=gini, max_depth=None, max_features=sqrt, min_samples_leaf=2, min_samples_split=3, n_estimators=100; total time=   1.4s\n",
      "[CV] END criterion=gini, max_depth=None, max_features=sqrt, min_samples_leaf=2, min_samples_split=3, n_estimators=100; total time=   1.5s\n",
      "[CV] END criterion=gini, max_depth=None, max_features=sqrt, min_samples_leaf=2, min_samples_split=3, n_estimators=100; total time=   1.4s\n",
      "[CV] END criterion=gini, max_depth=None, max_features=sqrt, min_samples_leaf=2, min_samples_split=3, n_estimators=200; total time=   2.9s\n",
      "[CV] END criterion=gini, max_depth=None, max_features=sqrt, min_samples_leaf=2, min_samples_split=3, n_estimators=200; total time=   3.0s\n",
      "[CV] END criterion=gini, max_depth=None, max_features=sqrt, min_samples_leaf=2, min_samples_split=3, n_estimators=200; total time=   2.6s\n",
      "[CV] END criterion=gini, max_depth=None, max_features=sqrt, min_samples_leaf=2, min_samples_split=3, n_estimators=200; total time=   2.6s\n",
      "[CV] END criterion=gini, max_depth=None, max_features=sqrt, min_samples_leaf=2, min_samples_split=3, n_estimators=200; total time=   2.6s\n",
      "[CV] END criterion=gini, max_depth=None, max_features=sqrt, min_samples_leaf=2, min_samples_split=5, n_estimators=100; total time=   1.2s\n",
      "[CV] END criterion=gini, max_depth=None, max_features=sqrt, min_samples_leaf=2, min_samples_split=5, n_estimators=100; total time=   1.3s\n",
      "[CV] END criterion=gini, max_depth=None, max_features=sqrt, min_samples_leaf=2, min_samples_split=5, n_estimators=100; total time=   1.3s\n",
      "[CV] END criterion=gini, max_depth=None, max_features=sqrt, min_samples_leaf=2, min_samples_split=5, n_estimators=100; total time=   1.2s\n",
      "[CV] END criterion=gini, max_depth=None, max_features=sqrt, min_samples_leaf=2, min_samples_split=5, n_estimators=100; total time=   1.3s\n",
      "[CV] END criterion=gini, max_depth=None, max_features=sqrt, min_samples_leaf=2, min_samples_split=5, n_estimators=200; total time=   2.6s\n",
      "[CV] END criterion=gini, max_depth=None, max_features=sqrt, min_samples_leaf=2, min_samples_split=5, n_estimators=200; total time=   2.6s\n",
      "[CV] END criterion=gini, max_depth=None, max_features=sqrt, min_samples_leaf=2, min_samples_split=5, n_estimators=200; total time=   2.6s\n",
      "[CV] END criterion=gini, max_depth=None, max_features=sqrt, min_samples_leaf=2, min_samples_split=5, n_estimators=200; total time=   2.5s\n",
      "[CV] END criterion=gini, max_depth=None, max_features=sqrt, min_samples_leaf=2, min_samples_split=5, n_estimators=200; total time=   2.6s\n",
      "[CV] END criterion=gini, max_depth=None, max_features=log2, min_samples_leaf=2, min_samples_split=3, n_estimators=100; total time=   0.8s\n",
      "[CV] END criterion=gini, max_depth=None, max_features=log2, min_samples_leaf=2, min_samples_split=3, n_estimators=100; total time=   0.7s\n",
      "[CV] END criterion=gini, max_depth=None, max_features=log2, min_samples_leaf=2, min_samples_split=3, n_estimators=100; total time=   0.8s\n",
      "[CV] END criterion=gini, max_depth=None, max_features=log2, min_samples_leaf=2, min_samples_split=3, n_estimators=100; total time=   0.7s\n",
      "[CV] END criterion=gini, max_depth=None, max_features=log2, min_samples_leaf=2, min_samples_split=3, n_estimators=100; total time=   0.9s\n",
      "[CV] END criterion=gini, max_depth=None, max_features=log2, min_samples_leaf=2, min_samples_split=3, n_estimators=200; total time=   2.4s\n",
      "[CV] END criterion=gini, max_depth=None, max_features=log2, min_samples_leaf=2, min_samples_split=3, n_estimators=200; total time=   1.6s\n",
      "[CV] END criterion=gini, max_depth=None, max_features=log2, min_samples_leaf=2, min_samples_split=3, n_estimators=200; total time=   1.6s\n",
      "[CV] END criterion=gini, max_depth=None, max_features=log2, min_samples_leaf=2, min_samples_split=3, n_estimators=200; total time=   1.6s\n",
      "[CV] END criterion=gini, max_depth=None, max_features=log2, min_samples_leaf=2, min_samples_split=3, n_estimators=200; total time=   1.7s\n",
      "[CV] END criterion=gini, max_depth=None, max_features=log2, min_samples_leaf=2, min_samples_split=5, n_estimators=100; total time=   0.8s\n",
      "[CV] END criterion=gini, max_depth=None, max_features=log2, min_samples_leaf=2, min_samples_split=5, n_estimators=100; total time=   0.7s\n",
      "[CV] END criterion=gini, max_depth=None, max_features=log2, min_samples_leaf=2, min_samples_split=5, n_estimators=100; total time=   0.8s\n",
      "[CV] END criterion=gini, max_depth=None, max_features=log2, min_samples_leaf=2, min_samples_split=5, n_estimators=100; total time=   0.7s\n",
      "[CV] END criterion=gini, max_depth=None, max_features=log2, min_samples_leaf=2, min_samples_split=5, n_estimators=100; total time=   0.7s\n",
      "[CV] END criterion=gini, max_depth=None, max_features=log2, min_samples_leaf=2, min_samples_split=5, n_estimators=200; total time=   2.2s\n",
      "[CV] END criterion=gini, max_depth=None, max_features=log2, min_samples_leaf=2, min_samples_split=5, n_estimators=200; total time=   1.7s\n",
      "[CV] END criterion=gini, max_depth=None, max_features=log2, min_samples_leaf=2, min_samples_split=5, n_estimators=200; total time=   1.6s\n",
      "[CV] END criterion=gini, max_depth=None, max_features=log2, min_samples_leaf=2, min_samples_split=5, n_estimators=200; total time=   1.6s\n",
      "[CV] END criterion=gini, max_depth=None, max_features=log2, min_samples_leaf=2, min_samples_split=5, n_estimators=200; total time=   1.5s\n",
      "[CV] END criterion=gini, max_depth=3, max_features=sqrt, min_samples_leaf=2, min_samples_split=3, n_estimators=100; total time=   0.4s\n",
      "[CV] END criterion=gini, max_depth=3, max_features=sqrt, min_samples_leaf=2, min_samples_split=3, n_estimators=100; total time=   0.4s\n",
      "[CV] END criterion=gini, max_depth=3, max_features=sqrt, min_samples_leaf=2, min_samples_split=3, n_estimators=100; total time=   0.3s\n",
      "[CV] END criterion=gini, max_depth=3, max_features=sqrt, min_samples_leaf=2, min_samples_split=3, n_estimators=100; total time=   0.3s\n",
      "[CV] END criterion=gini, max_depth=3, max_features=sqrt, min_samples_leaf=2, min_samples_split=3, n_estimators=100; total time=   0.5s\n",
      "[CV] END criterion=gini, max_depth=3, max_features=sqrt, min_samples_leaf=2, min_samples_split=3, n_estimators=200; total time=   1.2s\n",
      "[CV] END criterion=gini, max_depth=3, max_features=sqrt, min_samples_leaf=2, min_samples_split=3, n_estimators=200; total time=   0.8s\n",
      "[CV] END criterion=gini, max_depth=3, max_features=sqrt, min_samples_leaf=2, min_samples_split=3, n_estimators=200; total time=   0.7s\n",
      "[CV] END criterion=gini, max_depth=3, max_features=sqrt, min_samples_leaf=2, min_samples_split=3, n_estimators=200; total time=   0.7s\n",
      "[CV] END criterion=gini, max_depth=3, max_features=sqrt, min_samples_leaf=2, min_samples_split=3, n_estimators=200; total time=   0.7s\n",
      "[CV] END criterion=gini, max_depth=3, max_features=sqrt, min_samples_leaf=2, min_samples_split=5, n_estimators=100; total time=   0.3s\n",
      "[CV] END criterion=gini, max_depth=3, max_features=sqrt, min_samples_leaf=2, min_samples_split=5, n_estimators=100; total time=   0.3s\n",
      "[CV] END criterion=gini, max_depth=3, max_features=sqrt, min_samples_leaf=2, min_samples_split=5, n_estimators=100; total time=   0.3s\n",
      "[CV] END criterion=gini, max_depth=3, max_features=sqrt, min_samples_leaf=2, min_samples_split=5, n_estimators=100; total time=   0.3s\n",
      "[CV] END criterion=gini, max_depth=3, max_features=sqrt, min_samples_leaf=2, min_samples_split=5, n_estimators=100; total time=   0.4s\n",
      "[CV] END criterion=gini, max_depth=3, max_features=sqrt, min_samples_leaf=2, min_samples_split=5, n_estimators=200; total time=   1.3s\n",
      "[CV] END criterion=gini, max_depth=3, max_features=sqrt, min_samples_leaf=2, min_samples_split=5, n_estimators=200; total time=   1.0s\n",
      "[CV] END criterion=gini, max_depth=3, max_features=sqrt, min_samples_leaf=2, min_samples_split=5, n_estimators=200; total time=   0.8s\n",
      "[CV] END criterion=gini, max_depth=3, max_features=sqrt, min_samples_leaf=2, min_samples_split=5, n_estimators=200; total time=   0.8s\n",
      "[CV] END criterion=gini, max_depth=3, max_features=sqrt, min_samples_leaf=2, min_samples_split=5, n_estimators=200; total time=   0.8s\n",
      "[CV] END criterion=gini, max_depth=3, max_features=log2, min_samples_leaf=2, min_samples_split=3, n_estimators=100; total time=   0.2s\n",
      "[CV] END criterion=gini, max_depth=3, max_features=log2, min_samples_leaf=2, min_samples_split=3, n_estimators=100; total time=   0.2s\n",
      "[CV] END criterion=gini, max_depth=3, max_features=log2, min_samples_leaf=2, min_samples_split=3, n_estimators=100; total time=   0.2s\n",
      "[CV] END criterion=gini, max_depth=3, max_features=log2, min_samples_leaf=2, min_samples_split=3, n_estimators=100; total time=   0.2s\n",
      "[CV] END criterion=gini, max_depth=3, max_features=log2, min_samples_leaf=2, min_samples_split=3, n_estimators=100; total time=   0.2s\n",
      "[CV] END criterion=gini, max_depth=3, max_features=log2, min_samples_leaf=2, min_samples_split=3, n_estimators=200; total time=   0.5s\n",
      "[CV] END criterion=gini, max_depth=3, max_features=log2, min_samples_leaf=2, min_samples_split=3, n_estimators=200; total time=   0.6s\n",
      "[CV] END criterion=gini, max_depth=3, max_features=log2, min_samples_leaf=2, min_samples_split=3, n_estimators=200; total time=   1.0s\n",
      "[CV] END criterion=gini, max_depth=3, max_features=log2, min_samples_leaf=2, min_samples_split=3, n_estimators=200; total time=   0.9s\n",
      "[CV] END criterion=gini, max_depth=3, max_features=log2, min_samples_leaf=2, min_samples_split=3, n_estimators=200; total time=   0.6s\n",
      "[CV] END criterion=gini, max_depth=3, max_features=log2, min_samples_leaf=2, min_samples_split=5, n_estimators=100; total time=   0.2s\n",
      "[CV] END criterion=gini, max_depth=3, max_features=log2, min_samples_leaf=2, min_samples_split=5, n_estimators=100; total time=   0.3s\n",
      "[CV] END criterion=gini, max_depth=3, max_features=log2, min_samples_leaf=2, min_samples_split=5, n_estimators=100; total time=   0.3s\n",
      "[CV] END criterion=gini, max_depth=3, max_features=log2, min_samples_leaf=2, min_samples_split=5, n_estimators=100; total time=   0.2s\n",
      "[CV] END criterion=gini, max_depth=3, max_features=log2, min_samples_leaf=2, min_samples_split=5, n_estimators=100; total time=   0.2s\n",
      "[CV] END criterion=gini, max_depth=3, max_features=log2, min_samples_leaf=2, min_samples_split=5, n_estimators=200; total time=   0.5s\n",
      "[CV] END criterion=gini, max_depth=3, max_features=log2, min_samples_leaf=2, min_samples_split=5, n_estimators=200; total time=   0.5s\n",
      "[CV] END criterion=gini, max_depth=3, max_features=log2, min_samples_leaf=2, min_samples_split=5, n_estimators=200; total time=   0.5s\n",
      "[CV] END criterion=gini, max_depth=3, max_features=log2, min_samples_leaf=2, min_samples_split=5, n_estimators=200; total time=   1.5s\n",
      "[CV] END criterion=gini, max_depth=3, max_features=log2, min_samples_leaf=2, min_samples_split=5, n_estimators=200; total time=   1.1s\n",
      "[CV] END criterion=gini, max_depth=5, max_features=sqrt, min_samples_leaf=2, min_samples_split=3, n_estimators=100; total time=   0.7s\n",
      "[CV] END criterion=gini, max_depth=5, max_features=sqrt, min_samples_leaf=2, min_samples_split=3, n_estimators=100; total time=   0.6s\n",
      "[CV] END criterion=gini, max_depth=5, max_features=sqrt, min_samples_leaf=2, min_samples_split=3, n_estimators=100; total time=   0.6s\n",
      "[CV] END criterion=gini, max_depth=5, max_features=sqrt, min_samples_leaf=2, min_samples_split=3, n_estimators=100; total time=   0.6s\n",
      "[CV] END criterion=gini, max_depth=5, max_features=sqrt, min_samples_leaf=2, min_samples_split=3, n_estimators=100; total time=   0.6s\n",
      "[CV] END criterion=gini, max_depth=5, max_features=sqrt, min_samples_leaf=2, min_samples_split=3, n_estimators=200; total time=   1.2s\n",
      "[CV] END criterion=gini, max_depth=5, max_features=sqrt, min_samples_leaf=2, min_samples_split=3, n_estimators=200; total time=   1.2s\n",
      "[CV] END criterion=gini, max_depth=5, max_features=sqrt, min_samples_leaf=2, min_samples_split=3, n_estimators=200; total time=   1.2s\n",
      "[CV] END criterion=gini, max_depth=5, max_features=sqrt, min_samples_leaf=2, min_samples_split=3, n_estimators=200; total time=   1.2s\n",
      "[CV] END criterion=gini, max_depth=5, max_features=sqrt, min_samples_leaf=2, min_samples_split=3, n_estimators=200; total time=   1.2s\n",
      "[CV] END criterion=gini, max_depth=5, max_features=sqrt, min_samples_leaf=2, min_samples_split=5, n_estimators=100; total time=   0.6s\n",
      "[CV] END criterion=gini, max_depth=5, max_features=sqrt, min_samples_leaf=2, min_samples_split=5, n_estimators=100; total time=   0.6s\n",
      "[CV] END criterion=gini, max_depth=5, max_features=sqrt, min_samples_leaf=2, min_samples_split=5, n_estimators=100; total time=   0.6s\n",
      "[CV] END criterion=gini, max_depth=5, max_features=sqrt, min_samples_leaf=2, min_samples_split=5, n_estimators=100; total time=   0.6s\n",
      "[CV] END criterion=gini, max_depth=5, max_features=sqrt, min_samples_leaf=2, min_samples_split=5, n_estimators=100; total time=   0.6s\n",
      "[CV] END criterion=gini, max_depth=5, max_features=sqrt, min_samples_leaf=2, min_samples_split=5, n_estimators=200; total time=   1.2s\n",
      "[CV] END criterion=gini, max_depth=5, max_features=sqrt, min_samples_leaf=2, min_samples_split=5, n_estimators=200; total time=   1.2s\n",
      "[CV] END criterion=gini, max_depth=5, max_features=sqrt, min_samples_leaf=2, min_samples_split=5, n_estimators=200; total time=   1.2s\n",
      "[CV] END criterion=gini, max_depth=5, max_features=sqrt, min_samples_leaf=2, min_samples_split=5, n_estimators=200; total time=   1.2s\n",
      "[CV] END criterion=gini, max_depth=5, max_features=sqrt, min_samples_leaf=2, min_samples_split=5, n_estimators=200; total time=   1.2s\n",
      "[CV] END criterion=gini, max_depth=5, max_features=log2, min_samples_leaf=2, min_samples_split=3, n_estimators=100; total time=   0.4s\n",
      "[CV] END criterion=gini, max_depth=5, max_features=log2, min_samples_leaf=2, min_samples_split=3, n_estimators=100; total time=   0.3s\n",
      "[CV] END criterion=gini, max_depth=5, max_features=log2, min_samples_leaf=2, min_samples_split=3, n_estimators=100; total time=   0.3s\n",
      "[CV] END criterion=gini, max_depth=5, max_features=log2, min_samples_leaf=2, min_samples_split=3, n_estimators=100; total time=   0.3s\n",
      "[CV] END criterion=gini, max_depth=5, max_features=log2, min_samples_leaf=2, min_samples_split=3, n_estimators=100; total time=   0.3s\n",
      "[CV] END criterion=gini, max_depth=5, max_features=log2, min_samples_leaf=2, min_samples_split=3, n_estimators=200; total time=   0.7s\n",
      "[CV] END criterion=gini, max_depth=5, max_features=log2, min_samples_leaf=2, min_samples_split=3, n_estimators=200; total time=   0.8s\n",
      "[CV] END criterion=gini, max_depth=5, max_features=log2, min_samples_leaf=2, min_samples_split=3, n_estimators=200; total time=   0.8s\n",
      "[CV] END criterion=gini, max_depth=5, max_features=log2, min_samples_leaf=2, min_samples_split=3, n_estimators=200; total time=   1.7s\n",
      "[CV] END criterion=gini, max_depth=5, max_features=log2, min_samples_leaf=2, min_samples_split=3, n_estimators=200; total time=   1.4s\n",
      "[CV] END criterion=gini, max_depth=5, max_features=log2, min_samples_leaf=2, min_samples_split=5, n_estimators=100; total time=   0.4s\n",
      "[CV] END criterion=gini, max_depth=5, max_features=log2, min_samples_leaf=2, min_samples_split=5, n_estimators=100; total time=   0.3s\n",
      "[CV] END criterion=gini, max_depth=5, max_features=log2, min_samples_leaf=2, min_samples_split=5, n_estimators=100; total time=   0.3s\n",
      "[CV] END criterion=gini, max_depth=5, max_features=log2, min_samples_leaf=2, min_samples_split=5, n_estimators=100; total time=   0.3s\n",
      "[CV] END criterion=gini, max_depth=5, max_features=log2, min_samples_leaf=2, min_samples_split=5, n_estimators=100; total time=   0.3s\n",
      "[CV] END criterion=gini, max_depth=5, max_features=log2, min_samples_leaf=2, min_samples_split=5, n_estimators=200; total time=   0.8s\n",
      "[CV] END criterion=gini, max_depth=5, max_features=log2, min_samples_leaf=2, min_samples_split=5, n_estimators=200; total time=   0.8s\n",
      "[CV] END criterion=gini, max_depth=5, max_features=log2, min_samples_leaf=2, min_samples_split=5, n_estimators=200; total time=   0.8s\n",
      "[CV] END criterion=gini, max_depth=5, max_features=log2, min_samples_leaf=2, min_samples_split=5, n_estimators=200; total time=   1.1s\n",
      "[CV] END criterion=gini, max_depth=5, max_features=log2, min_samples_leaf=2, min_samples_split=5, n_estimators=200; total time=   1.2s\n",
      "[CV] END criterion=entropy, max_depth=None, max_features=sqrt, min_samples_leaf=2, min_samples_split=3, n_estimators=100; total time=   1.7s\n",
      "[CV] END criterion=entropy, max_depth=None, max_features=sqrt, min_samples_leaf=2, min_samples_split=3, n_estimators=100; total time=   1.7s\n",
      "[CV] END criterion=entropy, max_depth=None, max_features=sqrt, min_samples_leaf=2, min_samples_split=3, n_estimators=100; total time=   1.7s\n",
      "[CV] END criterion=entropy, max_depth=None, max_features=sqrt, min_samples_leaf=2, min_samples_split=3, n_estimators=100; total time=   1.6s\n",
      "[CV] END criterion=entropy, max_depth=None, max_features=sqrt, min_samples_leaf=2, min_samples_split=3, n_estimators=100; total time=   1.7s\n",
      "[CV] END criterion=entropy, max_depth=None, max_features=sqrt, min_samples_leaf=2, min_samples_split=3, n_estimators=200; total time=   3.4s\n",
      "[CV] END criterion=entropy, max_depth=None, max_features=sqrt, min_samples_leaf=2, min_samples_split=3, n_estimators=200; total time=   3.3s\n",
      "[CV] END criterion=entropy, max_depth=None, max_features=sqrt, min_samples_leaf=2, min_samples_split=3, n_estimators=200; total time=   3.4s\n",
      "[CV] END criterion=entropy, max_depth=None, max_features=sqrt, min_samples_leaf=2, min_samples_split=3, n_estimators=200; total time=   3.2s\n",
      "[CV] END criterion=entropy, max_depth=None, max_features=sqrt, min_samples_leaf=2, min_samples_split=3, n_estimators=200; total time=   3.4s\n",
      "[CV] END criterion=entropy, max_depth=None, max_features=sqrt, min_samples_leaf=2, min_samples_split=5, n_estimators=100; total time=   1.6s\n",
      "[CV] END criterion=entropy, max_depth=None, max_features=sqrt, min_samples_leaf=2, min_samples_split=5, n_estimators=100; total time=   1.6s\n",
      "[CV] END criterion=entropy, max_depth=None, max_features=sqrt, min_samples_leaf=2, min_samples_split=5, n_estimators=100; total time=   1.7s\n",
      "[CV] END criterion=entropy, max_depth=None, max_features=sqrt, min_samples_leaf=2, min_samples_split=5, n_estimators=100; total time=   1.6s\n",
      "[CV] END criterion=entropy, max_depth=None, max_features=sqrt, min_samples_leaf=2, min_samples_split=5, n_estimators=100; total time=   1.6s\n",
      "[CV] END criterion=entropy, max_depth=None, max_features=sqrt, min_samples_leaf=2, min_samples_split=5, n_estimators=200; total time=   3.2s\n",
      "[CV] END criterion=entropy, max_depth=None, max_features=sqrt, min_samples_leaf=2, min_samples_split=5, n_estimators=200; total time=   3.4s\n",
      "[CV] END criterion=entropy, max_depth=None, max_features=sqrt, min_samples_leaf=2, min_samples_split=5, n_estimators=200; total time=   3.4s\n",
      "[CV] END criterion=entropy, max_depth=None, max_features=sqrt, min_samples_leaf=2, min_samples_split=5, n_estimators=200; total time=   3.3s\n",
      "[CV] END criterion=entropy, max_depth=None, max_features=sqrt, min_samples_leaf=2, min_samples_split=5, n_estimators=200; total time=   3.3s\n",
      "[CV] END criterion=entropy, max_depth=None, max_features=log2, min_samples_leaf=2, min_samples_split=3, n_estimators=100; total time=   1.0s\n",
      "[CV] END criterion=entropy, max_depth=None, max_features=log2, min_samples_leaf=2, min_samples_split=3, n_estimators=100; total time=   1.0s\n",
      "[CV] END criterion=entropy, max_depth=None, max_features=log2, min_samples_leaf=2, min_samples_split=3, n_estimators=100; total time=   1.0s\n",
      "[CV] END criterion=entropy, max_depth=None, max_features=log2, min_samples_leaf=2, min_samples_split=3, n_estimators=100; total time=   1.0s\n",
      "[CV] END criterion=entropy, max_depth=None, max_features=log2, min_samples_leaf=2, min_samples_split=3, n_estimators=100; total time=   1.0s\n",
      "[CV] END criterion=entropy, max_depth=None, max_features=log2, min_samples_leaf=2, min_samples_split=3, n_estimators=200; total time=   2.1s\n",
      "[CV] END criterion=entropy, max_depth=None, max_features=log2, min_samples_leaf=2, min_samples_split=3, n_estimators=200; total time=   2.0s\n",
      "[CV] END criterion=entropy, max_depth=None, max_features=log2, min_samples_leaf=2, min_samples_split=3, n_estimators=200; total time=   2.1s\n",
      "[CV] END criterion=entropy, max_depth=None, max_features=log2, min_samples_leaf=2, min_samples_split=3, n_estimators=200; total time=   2.0s\n",
      "[CV] END criterion=entropy, max_depth=None, max_features=log2, min_samples_leaf=2, min_samples_split=3, n_estimators=200; total time=   2.0s\n",
      "[CV] END criterion=entropy, max_depth=None, max_features=log2, min_samples_leaf=2, min_samples_split=5, n_estimators=100; total time=   1.0s\n",
      "[CV] END criterion=entropy, max_depth=None, max_features=log2, min_samples_leaf=2, min_samples_split=5, n_estimators=100; total time=   1.0s\n",
      "[CV] END criterion=entropy, max_depth=None, max_features=log2, min_samples_leaf=2, min_samples_split=5, n_estimators=100; total time=   1.0s\n",
      "[CV] END criterion=entropy, max_depth=None, max_features=log2, min_samples_leaf=2, min_samples_split=5, n_estimators=100; total time=   1.1s\n",
      "[CV] END criterion=entropy, max_depth=None, max_features=log2, min_samples_leaf=2, min_samples_split=5, n_estimators=100; total time=   1.2s\n",
      "[CV] END criterion=entropy, max_depth=None, max_features=log2, min_samples_leaf=2, min_samples_split=5, n_estimators=200; total time=   2.1s\n",
      "[CV] END criterion=entropy, max_depth=None, max_features=log2, min_samples_leaf=2, min_samples_split=5, n_estimators=200; total time=   2.0s\n",
      "[CV] END criterion=entropy, max_depth=None, max_features=log2, min_samples_leaf=2, min_samples_split=5, n_estimators=200; total time=   2.1s\n",
      "[CV] END criterion=entropy, max_depth=None, max_features=log2, min_samples_leaf=2, min_samples_split=5, n_estimators=200; total time=   2.0s\n",
      "[CV] END criterion=entropy, max_depth=None, max_features=log2, min_samples_leaf=2, min_samples_split=5, n_estimators=200; total time=   2.0s\n",
      "[CV] END criterion=entropy, max_depth=3, max_features=sqrt, min_samples_leaf=2, min_samples_split=3, n_estimators=100; total time=   0.5s\n",
      "[CV] END criterion=entropy, max_depth=3, max_features=sqrt, min_samples_leaf=2, min_samples_split=3, n_estimators=100; total time=   0.5s\n",
      "[CV] END criterion=entropy, max_depth=3, max_features=sqrt, min_samples_leaf=2, min_samples_split=3, n_estimators=100; total time=   0.5s\n",
      "[CV] END criterion=entropy, max_depth=3, max_features=sqrt, min_samples_leaf=2, min_samples_split=3, n_estimators=100; total time=   0.5s\n",
      "[CV] END criterion=entropy, max_depth=3, max_features=sqrt, min_samples_leaf=2, min_samples_split=3, n_estimators=100; total time=   0.5s\n",
      "[CV] END criterion=entropy, max_depth=3, max_features=sqrt, min_samples_leaf=2, min_samples_split=3, n_estimators=200; total time=   1.1s\n",
      "[CV] END criterion=entropy, max_depth=3, max_features=sqrt, min_samples_leaf=2, min_samples_split=3, n_estimators=200; total time=   1.3s\n",
      "[CV] END criterion=entropy, max_depth=3, max_features=sqrt, min_samples_leaf=2, min_samples_split=3, n_estimators=200; total time=   1.1s\n",
      "[CV] END criterion=entropy, max_depth=3, max_features=sqrt, min_samples_leaf=2, min_samples_split=3, n_estimators=200; total time=   1.1s\n",
      "[CV] END criterion=entropy, max_depth=3, max_features=sqrt, min_samples_leaf=2, min_samples_split=3, n_estimators=200; total time=   1.1s\n",
      "[CV] END criterion=entropy, max_depth=3, max_features=sqrt, min_samples_leaf=2, min_samples_split=5, n_estimators=100; total time=   0.5s\n",
      "[CV] END criterion=entropy, max_depth=3, max_features=sqrt, min_samples_leaf=2, min_samples_split=5, n_estimators=100; total time=   0.5s\n",
      "[CV] END criterion=entropy, max_depth=3, max_features=sqrt, min_samples_leaf=2, min_samples_split=5, n_estimators=100; total time=   0.5s\n",
      "[CV] END criterion=entropy, max_depth=3, max_features=sqrt, min_samples_leaf=2, min_samples_split=5, n_estimators=100; total time=   0.5s\n",
      "[CV] END criterion=entropy, max_depth=3, max_features=sqrt, min_samples_leaf=2, min_samples_split=5, n_estimators=100; total time=   0.5s\n",
      "[CV] END criterion=entropy, max_depth=3, max_features=sqrt, min_samples_leaf=2, min_samples_split=5, n_estimators=200; total time=   1.1s\n",
      "[CV] END criterion=entropy, max_depth=3, max_features=sqrt, min_samples_leaf=2, min_samples_split=5, n_estimators=200; total time=   1.1s\n",
      "[CV] END criterion=entropy, max_depth=3, max_features=sqrt, min_samples_leaf=2, min_samples_split=5, n_estimators=200; total time=   1.1s\n",
      "[CV] END criterion=entropy, max_depth=3, max_features=sqrt, min_samples_leaf=2, min_samples_split=5, n_estimators=200; total time=   1.1s\n",
      "[CV] END criterion=entropy, max_depth=3, max_features=sqrt, min_samples_leaf=2, min_samples_split=5, n_estimators=200; total time=   1.1s\n",
      "[CV] END criterion=entropy, max_depth=3, max_features=log2, min_samples_leaf=2, min_samples_split=3, n_estimators=100; total time=   0.3s\n",
      "[CV] END criterion=entropy, max_depth=3, max_features=log2, min_samples_leaf=2, min_samples_split=3, n_estimators=100; total time=   0.3s\n",
      "[CV] END criterion=entropy, max_depth=3, max_features=log2, min_samples_leaf=2, min_samples_split=3, n_estimators=100; total time=   0.3s\n",
      "[CV] END criterion=entropy, max_depth=3, max_features=log2, min_samples_leaf=2, min_samples_split=3, n_estimators=100; total time=   0.3s\n",
      "[CV] END criterion=entropy, max_depth=3, max_features=log2, min_samples_leaf=2, min_samples_split=3, n_estimators=100; total time=   0.3s\n",
      "[CV] END criterion=entropy, max_depth=3, max_features=log2, min_samples_leaf=2, min_samples_split=3, n_estimators=200; total time=   0.7s\n",
      "[CV] END criterion=entropy, max_depth=3, max_features=log2, min_samples_leaf=2, min_samples_split=3, n_estimators=200; total time=   0.7s\n",
      "[CV] END criterion=entropy, max_depth=3, max_features=log2, min_samples_leaf=2, min_samples_split=3, n_estimators=200; total time=   0.7s\n",
      "[CV] END criterion=entropy, max_depth=3, max_features=log2, min_samples_leaf=2, min_samples_split=3, n_estimators=200; total time=   0.7s\n",
      "[CV] END criterion=entropy, max_depth=3, max_features=log2, min_samples_leaf=2, min_samples_split=3, n_estimators=200; total time=   0.9s\n",
      "[CV] END criterion=entropy, max_depth=3, max_features=log2, min_samples_leaf=2, min_samples_split=5, n_estimators=100; total time=   0.6s\n",
      "[CV] END criterion=entropy, max_depth=3, max_features=log2, min_samples_leaf=2, min_samples_split=5, n_estimators=100; total time=   1.3s\n",
      "[CV] END criterion=entropy, max_depth=3, max_features=log2, min_samples_leaf=2, min_samples_split=5, n_estimators=100; total time=   0.5s\n",
      "[CV] END criterion=entropy, max_depth=3, max_features=log2, min_samples_leaf=2, min_samples_split=5, n_estimators=100; total time=   0.4s\n",
      "[CV] END criterion=entropy, max_depth=3, max_features=log2, min_samples_leaf=2, min_samples_split=5, n_estimators=100; total time=   0.4s\n",
      "[CV] END criterion=entropy, max_depth=3, max_features=log2, min_samples_leaf=2, min_samples_split=5, n_estimators=200; total time=   0.7s\n",
      "[CV] END criterion=entropy, max_depth=3, max_features=log2, min_samples_leaf=2, min_samples_split=5, n_estimators=200; total time=   0.7s\n",
      "[CV] END criterion=entropy, max_depth=3, max_features=log2, min_samples_leaf=2, min_samples_split=5, n_estimators=200; total time=   0.7s\n",
      "[CV] END criterion=entropy, max_depth=3, max_features=log2, min_samples_leaf=2, min_samples_split=5, n_estimators=200; total time=   0.7s\n",
      "[CV] END criterion=entropy, max_depth=3, max_features=log2, min_samples_leaf=2, min_samples_split=5, n_estimators=200; total time=   0.9s\n",
      "[CV] END criterion=entropy, max_depth=5, max_features=sqrt, min_samples_leaf=2, min_samples_split=3, n_estimators=100; total time=   1.6s\n",
      "[CV] END criterion=entropy, max_depth=5, max_features=sqrt, min_samples_leaf=2, min_samples_split=3, n_estimators=100; total time=   1.2s\n",
      "[CV] END criterion=entropy, max_depth=5, max_features=sqrt, min_samples_leaf=2, min_samples_split=3, n_estimators=100; total time=   1.2s\n",
      "[CV] END criterion=entropy, max_depth=5, max_features=sqrt, min_samples_leaf=2, min_samples_split=3, n_estimators=100; total time=   0.9s\n",
      "[CV] END criterion=entropy, max_depth=5, max_features=sqrt, min_samples_leaf=2, min_samples_split=3, n_estimators=100; total time=   0.8s\n",
      "[CV] END criterion=entropy, max_depth=5, max_features=sqrt, min_samples_leaf=2, min_samples_split=3, n_estimators=200; total time=   1.6s\n",
      "[CV] END criterion=entropy, max_depth=5, max_features=sqrt, min_samples_leaf=2, min_samples_split=3, n_estimators=200; total time=   1.6s\n",
      "[CV] END criterion=entropy, max_depth=5, max_features=sqrt, min_samples_leaf=2, min_samples_split=3, n_estimators=200; total time=   1.6s\n",
      "[CV] END criterion=entropy, max_depth=5, max_features=sqrt, min_samples_leaf=2, min_samples_split=3, n_estimators=200; total time=   2.5s\n",
      "[CV] END criterion=entropy, max_depth=5, max_features=sqrt, min_samples_leaf=2, min_samples_split=3, n_estimators=200; total time=   2.0s\n",
      "[CV] END criterion=entropy, max_depth=5, max_features=sqrt, min_samples_leaf=2, min_samples_split=5, n_estimators=100; total time=   0.8s\n",
      "[CV] END criterion=entropy, max_depth=5, max_features=sqrt, min_samples_leaf=2, min_samples_split=5, n_estimators=100; total time=   0.8s\n",
      "[CV] END criterion=entropy, max_depth=5, max_features=sqrt, min_samples_leaf=2, min_samples_split=5, n_estimators=100; total time=   0.8s\n",
      "[CV] END criterion=entropy, max_depth=5, max_features=sqrt, min_samples_leaf=2, min_samples_split=5, n_estimators=100; total time=   0.8s\n",
      "[CV] END criterion=entropy, max_depth=5, max_features=sqrt, min_samples_leaf=2, min_samples_split=5, n_estimators=100; total time=   0.8s\n",
      "[CV] END criterion=entropy, max_depth=5, max_features=sqrt, min_samples_leaf=2, min_samples_split=5, n_estimators=200; total time=   1.6s\n",
      "[CV] END criterion=entropy, max_depth=5, max_features=sqrt, min_samples_leaf=2, min_samples_split=5, n_estimators=200; total time=   2.3s\n",
      "[CV] END criterion=entropy, max_depth=5, max_features=sqrt, min_samples_leaf=2, min_samples_split=5, n_estimators=200; total time=   2.2s\n",
      "[CV] END criterion=entropy, max_depth=5, max_features=sqrt, min_samples_leaf=2, min_samples_split=5, n_estimators=200; total time=   1.6s\n",
      "[CV] END criterion=entropy, max_depth=5, max_features=sqrt, min_samples_leaf=2, min_samples_split=5, n_estimators=200; total time=   1.6s\n",
      "[CV] END criterion=entropy, max_depth=5, max_features=log2, min_samples_leaf=2, min_samples_split=3, n_estimators=100; total time=   0.6s\n",
      "[CV] END criterion=entropy, max_depth=5, max_features=log2, min_samples_leaf=2, min_samples_split=3, n_estimators=100; total time=   0.5s\n",
      "[CV] END criterion=entropy, max_depth=5, max_features=log2, min_samples_leaf=2, min_samples_split=3, n_estimators=100; total time=   0.5s\n",
      "[CV] END criterion=entropy, max_depth=5, max_features=log2, min_samples_leaf=2, min_samples_split=3, n_estimators=100; total time=   0.4s\n",
      "[CV] END criterion=entropy, max_depth=5, max_features=log2, min_samples_leaf=2, min_samples_split=3, n_estimators=100; total time=   0.4s\n",
      "[CV] END criterion=entropy, max_depth=5, max_features=log2, min_samples_leaf=2, min_samples_split=3, n_estimators=200; total time=   1.0s\n",
      "[CV] END criterion=entropy, max_depth=5, max_features=log2, min_samples_leaf=2, min_samples_split=3, n_estimators=200; total time=   1.0s\n",
      "[CV] END criterion=entropy, max_depth=5, max_features=log2, min_samples_leaf=2, min_samples_split=3, n_estimators=200; total time=   1.0s\n",
      "[CV] END criterion=entropy, max_depth=5, max_features=log2, min_samples_leaf=2, min_samples_split=3, n_estimators=200; total time=   1.0s\n",
      "[CV] END criterion=entropy, max_depth=5, max_features=log2, min_samples_leaf=2, min_samples_split=3, n_estimators=200; total time=   1.0s\n",
      "[CV] END criterion=entropy, max_depth=5, max_features=log2, min_samples_leaf=2, min_samples_split=5, n_estimators=100; total time=   0.4s\n",
      "[CV] END criterion=entropy, max_depth=5, max_features=log2, min_samples_leaf=2, min_samples_split=5, n_estimators=100; total time=   0.4s\n",
      "[CV] END criterion=entropy, max_depth=5, max_features=log2, min_samples_leaf=2, min_samples_split=5, n_estimators=100; total time=   0.5s\n",
      "[CV] END criterion=entropy, max_depth=5, max_features=log2, min_samples_leaf=2, min_samples_split=5, n_estimators=100; total time=   0.5s\n",
      "[CV] END criterion=entropy, max_depth=5, max_features=log2, min_samples_leaf=2, min_samples_split=5, n_estimators=100; total time=   0.5s\n",
      "[CV] END criterion=entropy, max_depth=5, max_features=log2, min_samples_leaf=2, min_samples_split=5, n_estimators=200; total time=   1.1s\n",
      "[CV] END criterion=entropy, max_depth=5, max_features=log2, min_samples_leaf=2, min_samples_split=5, n_estimators=200; total time=   1.0s\n",
      "[CV] END criterion=entropy, max_depth=5, max_features=log2, min_samples_leaf=2, min_samples_split=5, n_estimators=200; total time=   1.0s\n",
      "[CV] END criterion=entropy, max_depth=5, max_features=log2, min_samples_leaf=2, min_samples_split=5, n_estimators=200; total time=   1.0s\n",
      "[CV] END criterion=entropy, max_depth=5, max_features=log2, min_samples_leaf=2, min_samples_split=5, n_estimators=200; total time=   1.0s\n",
      "Fitting 5 folds for each of 18 candidates, totalling 90 fits\n",
      "[CV] END colsample_bytree=0.5, learning_rate=0.3, max_depth=2, n_estimators=150, reg_alpha=5, reg_lambda=5; total time=   0.1s\n",
      "[CV] END colsample_bytree=0.5, learning_rate=0.3, max_depth=2, n_estimators=150, reg_alpha=5, reg_lambda=5; total time=   0.0s\n",
      "[CV] END colsample_bytree=0.5, learning_rate=0.3, max_depth=2, n_estimators=150, reg_alpha=5, reg_lambda=5; total time=   0.1s\n",
      "[CV] END colsample_bytree=0.5, learning_rate=0.3, max_depth=2, n_estimators=150, reg_alpha=5, reg_lambda=5; total time=   0.0s\n",
      "[CV] END colsample_bytree=0.5, learning_rate=0.3, max_depth=2, n_estimators=150, reg_alpha=5, reg_lambda=5; total time=   0.1s\n",
      "[CV] END colsample_bytree=0.5, learning_rate=0.3, max_depth=2, n_estimators=100, reg_alpha=5, reg_lambda=5; total time=   0.0s\n",
      "[CV] END colsample_bytree=0.5, learning_rate=0.3, max_depth=2, n_estimators=100, reg_alpha=5, reg_lambda=5; total time=   0.0s\n",
      "[CV] END colsample_bytree=0.5, learning_rate=0.3, max_depth=2, n_estimators=100, reg_alpha=5, reg_lambda=5; total time=   0.0s\n",
      "[CV] END colsample_bytree=0.5, learning_rate=0.3, max_depth=2, n_estimators=100, reg_alpha=5, reg_lambda=5; total time=   0.0s\n",
      "[CV] END colsample_bytree=0.5, learning_rate=0.3, max_depth=2, n_estimators=100, reg_alpha=5, reg_lambda=5; total time=   0.0s\n",
      "[CV] END colsample_bytree=0.5, learning_rate=0.3, max_depth=3, n_estimators=150, reg_alpha=5, reg_lambda=5; total time=   0.1s\n",
      "[CV] END colsample_bytree=0.5, learning_rate=0.3, max_depth=3, n_estimators=150, reg_alpha=5, reg_lambda=5; total time=   0.1s\n",
      "[CV] END colsample_bytree=0.5, learning_rate=0.3, max_depth=3, n_estimators=150, reg_alpha=5, reg_lambda=5; total time=   0.1s\n",
      "[CV] END colsample_bytree=0.5, learning_rate=0.3, max_depth=3, n_estimators=150, reg_alpha=5, reg_lambda=5; total time=   0.2s\n",
      "[CV] END colsample_bytree=0.5, learning_rate=0.3, max_depth=3, n_estimators=150, reg_alpha=5, reg_lambda=5; total time=   0.3s\n",
      "[CV] END colsample_bytree=0.5, learning_rate=0.3, max_depth=3, n_estimators=100, reg_alpha=5, reg_lambda=5; total time=   0.1s\n",
      "[CV] END colsample_bytree=0.5, learning_rate=0.3, max_depth=3, n_estimators=100, reg_alpha=5, reg_lambda=5; total time=   0.2s\n",
      "[CV] END colsample_bytree=0.5, learning_rate=0.3, max_depth=3, n_estimators=100, reg_alpha=5, reg_lambda=5; total time=   0.1s\n",
      "[CV] END colsample_bytree=0.5, learning_rate=0.3, max_depth=3, n_estimators=100, reg_alpha=5, reg_lambda=5; total time=   0.1s\n",
      "[CV] END colsample_bytree=0.5, learning_rate=0.3, max_depth=3, n_estimators=100, reg_alpha=5, reg_lambda=5; total time=   0.2s\n",
      "[CV] END colsample_bytree=0.5, learning_rate=0.3, max_depth=4, n_estimators=150, reg_alpha=5, reg_lambda=5; total time=   0.2s\n",
      "[CV] END colsample_bytree=0.5, learning_rate=0.3, max_depth=4, n_estimators=150, reg_alpha=5, reg_lambda=5; total time=   0.2s\n",
      "[CV] END colsample_bytree=0.5, learning_rate=0.3, max_depth=4, n_estimators=150, reg_alpha=5, reg_lambda=5; total time=   0.2s\n",
      "[CV] END colsample_bytree=0.5, learning_rate=0.3, max_depth=4, n_estimators=150, reg_alpha=5, reg_lambda=5; total time=   0.3s\n",
      "[CV] END colsample_bytree=0.5, learning_rate=0.3, max_depth=4, n_estimators=150, reg_alpha=5, reg_lambda=5; total time=   0.2s\n",
      "[CV] END colsample_bytree=0.5, learning_rate=0.3, max_depth=4, n_estimators=100, reg_alpha=5, reg_lambda=5; total time=   0.2s\n",
      "[CV] END colsample_bytree=0.5, learning_rate=0.3, max_depth=4, n_estimators=100, reg_alpha=5, reg_lambda=5; total time=   0.3s\n",
      "[CV] END colsample_bytree=0.5, learning_rate=0.3, max_depth=4, n_estimators=100, reg_alpha=5, reg_lambda=5; total time=   0.6s\n",
      "[CV] END colsample_bytree=0.5, learning_rate=0.3, max_depth=4, n_estimators=100, reg_alpha=5, reg_lambda=5; total time=   0.9s\n",
      "[CV] END colsample_bytree=0.5, learning_rate=0.3, max_depth=4, n_estimators=100, reg_alpha=5, reg_lambda=5; total time=   1.1s\n",
      "[CV] END colsample_bytree=0.5, learning_rate=0.2, max_depth=2, n_estimators=150, reg_alpha=5, reg_lambda=5; total time=   0.6s\n",
      "[CV] END colsample_bytree=0.5, learning_rate=0.2, max_depth=2, n_estimators=150, reg_alpha=5, reg_lambda=5; total time=   0.2s\n",
      "[CV] END colsample_bytree=0.5, learning_rate=0.2, max_depth=2, n_estimators=150, reg_alpha=5, reg_lambda=5; total time=   0.3s\n",
      "[CV] END colsample_bytree=0.5, learning_rate=0.2, max_depth=2, n_estimators=150, reg_alpha=5, reg_lambda=5; total time=   0.2s\n",
      "[CV] END colsample_bytree=0.5, learning_rate=0.2, max_depth=2, n_estimators=150, reg_alpha=5, reg_lambda=5; total time=   0.1s\n",
      "[CV] END colsample_bytree=0.5, learning_rate=0.2, max_depth=2, n_estimators=100, reg_alpha=5, reg_lambda=5; total time=   0.0s\n",
      "[CV] END colsample_bytree=0.5, learning_rate=0.2, max_depth=2, n_estimators=100, reg_alpha=5, reg_lambda=5; total time=   0.0s\n",
      "[CV] END colsample_bytree=0.5, learning_rate=0.2, max_depth=2, n_estimators=100, reg_alpha=5, reg_lambda=5; total time=   0.1s\n",
      "[CV] END colsample_bytree=0.5, learning_rate=0.2, max_depth=2, n_estimators=100, reg_alpha=5, reg_lambda=5; total time=   0.2s\n",
      "[CV] END colsample_bytree=0.5, learning_rate=0.2, max_depth=2, n_estimators=100, reg_alpha=5, reg_lambda=5; total time=   0.1s\n",
      "[CV] END colsample_bytree=0.5, learning_rate=0.2, max_depth=3, n_estimators=150, reg_alpha=5, reg_lambda=5; total time=   0.3s\n",
      "[CV] END colsample_bytree=0.5, learning_rate=0.2, max_depth=3, n_estimators=150, reg_alpha=5, reg_lambda=5; total time=   0.4s\n",
      "[CV] END colsample_bytree=0.5, learning_rate=0.2, max_depth=3, n_estimators=150, reg_alpha=5, reg_lambda=5; total time=   0.3s\n",
      "[CV] END colsample_bytree=0.5, learning_rate=0.2, max_depth=3, n_estimators=150, reg_alpha=5, reg_lambda=5; total time=   0.3s\n",
      "[CV] END colsample_bytree=0.5, learning_rate=0.2, max_depth=3, n_estimators=150, reg_alpha=5, reg_lambda=5; total time=   0.2s\n",
      "[CV] END colsample_bytree=0.5, learning_rate=0.2, max_depth=3, n_estimators=100, reg_alpha=5, reg_lambda=5; total time=   0.1s\n",
      "[CV] END colsample_bytree=0.5, learning_rate=0.2, max_depth=3, n_estimators=100, reg_alpha=5, reg_lambda=5; total time=   0.1s\n",
      "[CV] END colsample_bytree=0.5, learning_rate=0.2, max_depth=3, n_estimators=100, reg_alpha=5, reg_lambda=5; total time=   0.1s\n",
      "[CV] END colsample_bytree=0.5, learning_rate=0.2, max_depth=3, n_estimators=100, reg_alpha=5, reg_lambda=5; total time=   0.1s\n",
      "[CV] END colsample_bytree=0.5, learning_rate=0.2, max_depth=3, n_estimators=100, reg_alpha=5, reg_lambda=5; total time=   0.2s\n",
      "[CV] END colsample_bytree=0.5, learning_rate=0.2, max_depth=4, n_estimators=150, reg_alpha=5, reg_lambda=5; total time=   0.4s\n",
      "[CV] END colsample_bytree=0.5, learning_rate=0.2, max_depth=4, n_estimators=150, reg_alpha=5, reg_lambda=5; total time=   0.4s\n",
      "[CV] END colsample_bytree=0.5, learning_rate=0.2, max_depth=4, n_estimators=150, reg_alpha=5, reg_lambda=5; total time=   0.4s\n",
      "[CV] END colsample_bytree=0.5, learning_rate=0.2, max_depth=4, n_estimators=150, reg_alpha=5, reg_lambda=5; total time=   0.3s\n",
      "[CV] END colsample_bytree=0.5, learning_rate=0.2, max_depth=4, n_estimators=150, reg_alpha=5, reg_lambda=5; total time=   0.4s\n",
      "[CV] END colsample_bytree=0.5, learning_rate=0.2, max_depth=4, n_estimators=100, reg_alpha=5, reg_lambda=5; total time=   0.3s\n",
      "[CV] END colsample_bytree=0.5, learning_rate=0.2, max_depth=4, n_estimators=100, reg_alpha=5, reg_lambda=5; total time=   0.4s\n",
      "[CV] END colsample_bytree=0.5, learning_rate=0.2, max_depth=4, n_estimators=100, reg_alpha=5, reg_lambda=5; total time=   0.5s\n",
      "[CV] END colsample_bytree=0.5, learning_rate=0.2, max_depth=4, n_estimators=100, reg_alpha=5, reg_lambda=5; total time=   2.8s\n",
      "[CV] END colsample_bytree=0.5, learning_rate=0.2, max_depth=4, n_estimators=100, reg_alpha=5, reg_lambda=5; total time=   0.4s\n",
      "[CV] END colsample_bytree=0.5, learning_rate=0.1, max_depth=2, n_estimators=150, reg_alpha=5, reg_lambda=5; total time=   0.2s\n",
      "[CV] END colsample_bytree=0.5, learning_rate=0.1, max_depth=2, n_estimators=150, reg_alpha=5, reg_lambda=5; total time=   0.1s\n",
      "[CV] END colsample_bytree=0.5, learning_rate=0.1, max_depth=2, n_estimators=150, reg_alpha=5, reg_lambda=5; total time=   0.1s\n",
      "[CV] END colsample_bytree=0.5, learning_rate=0.1, max_depth=2, n_estimators=150, reg_alpha=5, reg_lambda=5; total time=   0.1s\n",
      "[CV] END colsample_bytree=0.5, learning_rate=0.1, max_depth=2, n_estimators=150, reg_alpha=5, reg_lambda=5; total time=   0.1s\n",
      "[CV] END colsample_bytree=0.5, learning_rate=0.1, max_depth=2, n_estimators=100, reg_alpha=5, reg_lambda=5; total time=   0.0s\n",
      "[CV] END colsample_bytree=0.5, learning_rate=0.1, max_depth=2, n_estimators=100, reg_alpha=5, reg_lambda=5; total time=   0.0s\n",
      "[CV] END colsample_bytree=0.5, learning_rate=0.1, max_depth=2, n_estimators=100, reg_alpha=5, reg_lambda=5; total time=   0.0s\n",
      "[CV] END colsample_bytree=0.5, learning_rate=0.1, max_depth=2, n_estimators=100, reg_alpha=5, reg_lambda=5; total time=   0.0s\n",
      "[CV] END colsample_bytree=0.5, learning_rate=0.1, max_depth=2, n_estimators=100, reg_alpha=5, reg_lambda=5; total time=   0.0s\n",
      "[CV] END colsample_bytree=0.5, learning_rate=0.1, max_depth=3, n_estimators=150, reg_alpha=5, reg_lambda=5; total time=   0.2s\n",
      "[CV] END colsample_bytree=0.5, learning_rate=0.1, max_depth=3, n_estimators=150, reg_alpha=5, reg_lambda=5; total time=   0.2s\n",
      "[CV] END colsample_bytree=0.5, learning_rate=0.1, max_depth=3, n_estimators=150, reg_alpha=5, reg_lambda=5; total time=   0.3s\n",
      "[CV] END colsample_bytree=0.5, learning_rate=0.1, max_depth=3, n_estimators=150, reg_alpha=5, reg_lambda=5; total time=   0.2s\n",
      "[CV] END colsample_bytree=0.5, learning_rate=0.1, max_depth=3, n_estimators=150, reg_alpha=5, reg_lambda=5; total time=   0.2s\n",
      "[CV] END colsample_bytree=0.5, learning_rate=0.1, max_depth=3, n_estimators=100, reg_alpha=5, reg_lambda=5; total time=   0.1s\n",
      "[CV] END colsample_bytree=0.5, learning_rate=0.1, max_depth=3, n_estimators=100, reg_alpha=5, reg_lambda=5; total time=   0.1s\n",
      "[CV] END colsample_bytree=0.5, learning_rate=0.1, max_depth=3, n_estimators=100, reg_alpha=5, reg_lambda=5; total time=   0.7s\n",
      "[CV] END colsample_bytree=0.5, learning_rate=0.1, max_depth=3, n_estimators=100, reg_alpha=5, reg_lambda=5; total time=   3.0s\n",
      "[CV] END colsample_bytree=0.5, learning_rate=0.1, max_depth=3, n_estimators=100, reg_alpha=5, reg_lambda=5; total time=   0.3s\n",
      "[CV] END colsample_bytree=0.5, learning_rate=0.1, max_depth=4, n_estimators=150, reg_alpha=5, reg_lambda=5; total time=   0.6s\n",
      "[CV] END colsample_bytree=0.5, learning_rate=0.1, max_depth=4, n_estimators=150, reg_alpha=5, reg_lambda=5; total time=   0.7s\n",
      "[CV] END colsample_bytree=0.5, learning_rate=0.1, max_depth=4, n_estimators=150, reg_alpha=5, reg_lambda=5; total time=   0.5s\n",
      "[CV] END colsample_bytree=0.5, learning_rate=0.1, max_depth=4, n_estimators=150, reg_alpha=5, reg_lambda=5; total time=   0.5s\n",
      "[CV] END colsample_bytree=0.5, learning_rate=0.1, max_depth=4, n_estimators=150, reg_alpha=5, reg_lambda=5; total time=   0.5s\n",
      "[CV] END colsample_bytree=0.5, learning_rate=0.1, max_depth=4, n_estimators=100, reg_alpha=5, reg_lambda=5; total time=   0.4s\n",
      "[CV] END colsample_bytree=0.5, learning_rate=0.1, max_depth=4, n_estimators=100, reg_alpha=5, reg_lambda=5; total time=   0.5s\n",
      "[CV] END colsample_bytree=0.5, learning_rate=0.1, max_depth=4, n_estimators=100, reg_alpha=5, reg_lambda=5; total time=   1.2s\n",
      "[CV] END colsample_bytree=0.5, learning_rate=0.1, max_depth=4, n_estimators=100, reg_alpha=5, reg_lambda=5; total time=   0.7s\n",
      "[CV] END colsample_bytree=0.5, learning_rate=0.1, max_depth=4, n_estimators=100, reg_alpha=5, reg_lambda=5; total time=   0.5s\n"
     ]
    }
   ],
   "source": [
    "model_finder = model_finder(X_train, y_train)\n",
    "results = {\n",
    "    \"Logistic Regression\" : model_finder.find_logistic_regression(),\n",
    "    \"SVC\" : model_finder.find_SVC(),\n",
    "    \"Random Forest\" : model_finder.find_randomForest(),\n",
    "    \"XGBoost\" : model_finder.find_xgboost()\n",
    "}"
   ]
  },
  {
   "cell_type": "code",
   "execution_count": 20,
   "metadata": {},
   "outputs": [
    {
     "name": "stdout",
     "output_type": "stream",
     "text": [
      "Model: Logistic Regression\n",
      "f1 score: 0.7180320454435417\n",
      "Balanced Accuracy: 0.9234909424696248\n",
      "Roc Auc Score: 0.9234909424696248\n",
      "\n",
      "--------------------------------------------------\n",
      "\n",
      "Model: SVC\n",
      "f1 score: 0.918187996407449\n",
      "Balanced Accuracy: 0.9941052213998633\n",
      "Roc Auc Score: 0.9941052213998635\n",
      "\n",
      "--------------------------------------------------\n",
      "\n",
      "Model: Random Forest\n",
      "f1 score: 0.9324671195259431\n",
      "Balanced Accuracy: 1.0\n",
      "Roc Auc Score: 1.0\n",
      "\n",
      "--------------------------------------------------\n",
      "\n",
      "Model: XGBoost\n",
      "f1 score: 0.9560954897875893\n",
      "Balanced Accuracy: 0.9989517819706499\n",
      "Roc Auc Score: 0.9989517819706499\n",
      "\n",
      "--------------------------------------------------\n",
      "\n"
     ]
    },
    {
     "data": {
      "image/png": "[encoded data removed]",
      "text/plain": [
       "<Figure size 1000x800 with 8 Axes>"
      ]
     },
     "metadata": {},
     "output_type": "display_data"
    }
   ],
   "source": [
    "fig, axes = plt.subplots(2, 2, figsize=(10,8))\n",
    "axes = axes.flatten()\n",
    "\n",
    "for i,name in enumerate(results):\n",
    "    best_model = results.get(name)\n",
    "    y_pred = best_model.best_estimator_.predict(X_train)\n",
    "    f1 = best_model.best_score_\n",
    "    balanced_accuracy = balanced_accuracy_score(y_train, y_pred)\n",
    "    rocAuc = roc_auc_score(y_train, y_pred)\n",
    "\n",
    "    print(f\"Model: {name}\")\n",
    "    #print(f\"Best Parameters: {best_model.best_params_}\")\n",
    "    #print(f\"\\nTraining Accuracy: {best_model.best_score_*100}\")\n",
    "    print(f\"f1 score: {f1}\")\n",
    "    print(f\"Balanced Accuracy: {balanced_accuracy}\")\n",
    "    print(f\"Roc Auc Score: {rocAuc}\")\n",
    "    print(\"\\n\",\"-\"*50,\"\\n\", sep=\"\")\n",
    "\n",
    "    ConfusionMatrixDisplay.from_predictions(y_train, y_pred, labels=best_model.best_estimator_.classes_, ax=axes[i])\n",
    "    axes[i].set_title(name)\n",
    "\n",
    "plt.tight_layout()"
   ]
  },
  {
   "cell_type": "markdown",
   "metadata": {},
   "source": [
    "XGBoost performed the best in cross validation"
   ]
  }
 ],
 "metadata": {
  "kernelspec": {
   "display_name": "pyeleven",
   "language": "python",
   "name": "python3"
  },
  "language_info": {
   "codemirror_mode": {
    "name": "ipython",
    "version": 3
   },
   "file_extension": ".py",
   "mimetype": "text/x-python",
   "name": "python",
   "nbconvert_exporter": "python",
   "pygments_lexer": "ipython3",
   "version": "3.11.5"
  }
 },
 "nbformat": 4,
 "nbformat_minor": 2
}
